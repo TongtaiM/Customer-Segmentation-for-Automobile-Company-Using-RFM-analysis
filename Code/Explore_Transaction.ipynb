{
 "cells": [
  {
   "cell_type": "code",
   "execution_count": 1,
   "id": "12388242",
   "metadata": {},
   "outputs": [],
   "source": [
    "import pandas as pd\n",
    "import numpy as np\n",
    "import matplotlib.pyplot as plt\n",
    "import datetime\n",
    "import seaborn as sns"
   ]
  },
  {
   "cell_type": "code",
   "execution_count": 2,
   "id": "50bb1397",
   "metadata": {},
   "outputs": [],
   "source": [
    "Transaction_Clean = pd.read_csv(\"C:/Users/matages/Desktop/Customer Segmentation/Clean_data/Transaction_Clean.csv\")"
   ]
  },
  {
   "cell_type": "code",
   "execution_count": 3,
   "id": "0260a25d",
   "metadata": {},
   "outputs": [
    {
     "name": "stdout",
     "output_type": "stream",
     "text": [
      "<class 'pandas.core.frame.DataFrame'>\n",
      "RangeIndex: 19803 entries, 0 to 19802\n",
      "Data columns (total 15 columns):\n",
      " #   Column                   Non-Null Count  Dtype  \n",
      "---  ------                   --------------  -----  \n",
      " 0   Unnamed: 0               19803 non-null  int64  \n",
      " 1   transaction_id           19803 non-null  int64  \n",
      " 2   product_id               19803 non-null  int64  \n",
      " 3   customer_id              19803 non-null  int64  \n",
      " 4   transaction_date         19803 non-null  object \n",
      " 5   online_order             19445 non-null  object \n",
      " 6   order_status             19803 non-null  object \n",
      " 7   brand                    19803 non-null  object \n",
      " 8   product_line             19803 non-null  object \n",
      " 9   product_class            19803 non-null  object \n",
      " 10  product_size             19803 non-null  object \n",
      " 11  list_price               19803 non-null  float64\n",
      " 12  standard_cost            19803 non-null  float64\n",
      " 13  product_first_sold_date  19803 non-null  float64\n",
      " 14  Profit                   19803 non-null  float64\n",
      "dtypes: float64(4), int64(4), object(7)\n",
      "memory usage: 2.3+ MB\n"
     ]
    }
   ],
   "source": [
    "Transaction_Clean.info()"
   ]
  },
  {
   "cell_type": "code",
   "execution_count": 47,
   "id": "df98e49b",
   "metadata": {},
   "outputs": [
    {
     "data": {
      "text/plain": [
       "customer_id\n",
       "1068    14\n",
       "2476    14\n",
       "2183    14\n",
       "3232    13\n",
       "637     13\n",
       "1302    13\n",
       "2912    13\n",
       "3048    13\n",
       "1129    13\n",
       "1140    13\n",
       "Name: count, dtype: int64"
      ]
     },
     "execution_count": 47,
     "metadata": {},
     "output_type": "execute_result"
    }
   ],
   "source": [
    "(Transaction_Clean[\"customer_id\"].value_counts().sort_values(ascending=False).head(10))"
   ]
  },
  {
   "cell_type": "code",
   "execution_count": 30,
   "id": "991d367d",
   "metadata": {},
   "outputs": [
    {
     "data": {
      "text/plain": [
       "customer_id\n",
       "1068    14\n",
       "2476    14\n",
       "2183    14\n",
       "3232    13\n",
       "637     13\n",
       "1302    13\n",
       "2912    13\n",
       "3048    13\n",
       "1129    13\n",
       "1140    13\n",
       "Name: count, dtype: int64"
      ]
     },
     "execution_count": 30,
     "metadata": {},
     "output_type": "execute_result"
    }
   ],
   "source": [
    "top5_Customer"
   ]
  },
  {
   "cell_type": "code",
   "execution_count": null,
   "id": "24afd8d7",
   "metadata": {},
   "outputs": [],
   "source": []
  }
 ],
 "metadata": {
  "kernelspec": {
   "display_name": "Python 3 (ipykernel)",
   "language": "python",
   "name": "python3"
  },
  "language_info": {
   "codemirror_mode": {
    "name": "ipython",
    "version": 3
   },
   "file_extension": ".py",
   "mimetype": "text/x-python",
   "name": "python",
   "nbconvert_exporter": "python",
   "pygments_lexer": "ipython3",
   "version": "3.11.5"
  }
 },
 "nbformat": 4,
 "nbformat_minor": 5
}
